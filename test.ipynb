{
 "cells": [
  {
   "cell_type": "code",
   "execution_count": null,
   "metadata": {},
   "outputs": [
    {
     "name": "stdout",
     "output_type": "stream",
     "text": [
      "average waiting time:  36.92654737136913\n",
      "time for entry_0 after optimization: 13\n",
      "time for entry_1 after optimization: 13\n",
      "time for entry_2 after optimization: 13\n",
      "time for entry_3 after optimization: 13\n"
     ]
    }
   ],
   "source": [
    "from traffic import *\n",
    "\n",
    "\n",
    "def duration_variation(time, sim_time):\n",
    "    # Parameters\n",
    "    car_arrival_rates = [0.4, 0.4, 0.6, 0.6]  # Arrival rates for each entry\n",
    "    k = time\n",
    "    green_light_durations = [k, k, k, k]  # Durations for each green light\n",
    "    yellow_light_duration = 3  # Duration for each yellow light\n",
    "    car_exit_rates = [3, 3, 3, 3]  # Number of cars that can exit per time unit for each entry\n",
    "    simulation_time = sim_time\n",
    "\n",
    "    intersection = simulate_traffic(car_arrival_rates, green_light_durations, yellow_light_duration, car_exit_rates, simulation_time)\n",
    "    return intersection\n",
    "\n",
    "intersection = duration_variation(13, 100000)\n",
    "print(\"average waiting time: \", intersection.total_waiting_time/intersection.total_cars)\n",
    "for entry in intersection.entries:\n",
    "    print(f\"time for entry_{entry.index} after optimization: {entry.green_duration}\")    "
   ]
  },
  {
   "cell_type": "code",
   "execution_count": null,
   "metadata": {},
   "outputs": [],
   "source": [
    "import numpy as np\n",
    "import plotly.graph_objects as go\n",
    "\n",
    "# Define the function\n",
    "def my_function(x):\n",
    "    return np.sin(x)  # Example function: sine wave\n",
    "\n",
    "# Generate discrete integer x-values \n",
    "x_values = list(range(5, 100))\n",
    "\n",
    "# # Calculate the y-values \n",
    "y_values = []\n",
    "sim_time = 100000\n",
    "for i in x_values:\n",
    "    intersection = duration_variation(i, sim_time)\n",
    "    y_values.append(intersection.total_waiting_time/intersection.total_cars)\n",
    "\n",
    "# Create the plot\n",
    "fig = go.Figure()\n",
    "\n",
    "# Add a trace\n",
    "fig.add_trace(go.Scatter(x=x_values, y=y_values, mode='lines', name='My Function'))\n",
    "\n",
    "# Customize the layout\n",
    "fig.update_layout(title='Continuous Line Graph of My Function',\n",
    "                  xaxis_title='x',\n",
    "                  yaxis_title='y')\n",
    "\n",
    "# Show the plot\n",
    "fig.show()\n"
   ]
  },
  {
   "cell_type": "code",
   "execution_count": null,
   "metadata": {},
   "outputs": [],
   "source": [
    "import plotly.graph_objects as go\n",
    "\n",
    "# Assuming duration_variation function returns the required lists\n",
    "sim_time = 1000\n",
    "intersection = duration_variation(60, sim_time)\n",
    "y_values = intersection.entries[3].cars_popped_per_time_step\n",
    "\n",
    "colors = intersection.entries[3].phase_history\n",
    "\n",
    "\n",
    "# Sample data\n",
    "x_values = list(range(sim_time))\n",
    "\n",
    "# Create the figure\n",
    "fig = go.Figure()\n",
    "\n",
    "# Add the scatter plot\n",
    "fig.add_trace(go.Scatter(x=x_values, y=y_values, mode='lines+markers', name='Data'))\n",
    "\n",
    "# Optimized: Grouping consecutive x-values with the same color\n",
    "current_color = colors[0]\n",
    "start_index = 0\n",
    "\n",
    "for i in range(1, len(x_values)):\n",
    "    if colors[i] != current_color or i == len(x_values) - 1:\n",
    "        # End of current color segment or last element\n",
    "        fig.add_shape(type=\"rect\",\n",
    "                      x0=x_values[start_index] - 0.5, x1=x_values[i-1] + 0.5,\n",
    "                      y0=min(y_values) - 1, y1=max(y_values) + 1,\n",
    "                      fillcolor=current_color,\n",
    "                      opacity=0.3,\n",
    "                      line_width=0)\n",
    "        # Start a new segment\n",
    "        current_color = colors[i]\n",
    "        start_index = i\n",
    "\n",
    "# Add x-axis slider\n",
    "fig.update_layout(\n",
    "    title='Discrete Line Graph with Background Colors and X-Axis Slider',\n",
    "    xaxis_title='x',\n",
    "    yaxis_title='y',\n",
    "    xaxis=dict(\n",
    "        rangeslider=dict(\n",
    "            visible=True\n",
    "        ),\n",
    "        type=\"linear\"\n",
    "    )\n",
    ")\n",
    "\n",
    "# Show the plot\n",
    "fig.show()\n"
   ]
  },
  {
   "cell_type": "code",
   "execution_count": null,
   "metadata": {},
   "outputs": [],
   "source": []
  },
  {
   "cell_type": "code",
   "execution_count": null,
   "metadata": {},
   "outputs": [],
   "source": []
  }
 ],
 "metadata": {
  "kernelspec": {
   "display_name": "Python 3",
   "language": "python",
   "name": "python3"
  },
  "language_info": {
   "codemirror_mode": {
    "name": "ipython",
    "version": 3
   },
   "file_extension": ".py",
   "mimetype": "text/x-python",
   "name": "python",
   "nbconvert_exporter": "python",
   "pygments_lexer": "ipython3",
   "version": "3.12.8"
  }
 },
 "nbformat": 4,
 "nbformat_minor": 2
}
